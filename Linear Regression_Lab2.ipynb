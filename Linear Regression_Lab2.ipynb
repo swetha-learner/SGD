{
 "cells": [
  {
   "cell_type": "markdown",
   "metadata": {},
   "source": [
    "## Stochastic Gradient Descent"
   ]
  },
  {
   "cell_type": "code",
   "execution_count": 1,
   "metadata": {},
   "outputs": [
    {
     "name": "stdout",
     "output_type": "stream",
     "text": [
      "[[ 6]\n",
      " [ 8]\n",
      " [10]\n",
      " [14]\n",
      " [18]]\n",
      "[ 7.   9.  13.  17.5 18. ]\n"
     ]
    },
    {
     "data": {
      "image/png": "[encoded data removed]",
      "text/plain": [
       "<Figure size 432x288 with 1 Axes>"
      ]
     },
     "metadata": {
      "needs_background": "light"
     },
     "output_type": "display_data"
    }
   ],
   "source": [
    "%matplotlib inline\n",
    "\n",
    "import matplotlib.pyplot as plt\n",
    "import numpy as np\n",
    "\n",
    "\n",
    "X = [6,8,10,14,18]\n",
    "X = np.array(X).reshape(-1,1)  #2Dim\n",
    "Y=[7,9,13,17.5,18]\n",
    "Y = np.array(Y)\n",
    "\n",
    "print(X)\n",
    "print(Y)\n",
    "\n",
    "plt.figure()\n",
    "plt.title('pizza price plotted against diameter')\n",
    "plt.xlabel(\"Diameter in inches\")\n",
    "plt.ylabel(\"Price in dollars\")\n",
    "plt.plot(X,Y,'go') #fmt\n",
    "plt.axis([0,25,0,25])  #x1,x2,y1,y2\n",
    "plt.grid(True)\n",
    "plt.show()"
   ]
  },
  {
   "cell_type": "code",
   "execution_count": 20,
   "metadata": {},
   "outputs": [
    {
     "name": "stdout",
     "output_type": "stream",
     "text": [
      "SGDRegressor(tol=100)\n"
     ]
    }
   ],
   "source": [
    "from sklearn.linear_model import SGDRegressor \n",
    "\n",
    "\n",
    "#create and fit the model\n",
    "model = SGDRegressor(loss = \"squared_loss\" , max_iter = 1000 ,tol=100) #y=mx+c\n",
    "# Other arguments - penalty, alpha, shuffle = True ,max_iter = 1000, tol = 0.001\n",
    "print(model.fit(X,Y))"
   ]
  },
  {
   "cell_type": "code",
   "execution_count": 3,
   "metadata": {},
   "outputs": [
    {
     "name": "stdout",
     "output_type": "stream",
     "text": [
      "[ 7.   9.  13.  17.5 18. ]\n",
      "[ 5.91489814  7.86507179  9.81524545 13.71559276 17.61594006]\n"
     ]
    }
   ],
   "source": [
    "print(Y)\n",
    "print(model.predict(X))"
   ]
  },
  {
   "cell_type": "code",
   "execution_count": 4,
   "metadata": {},
   "outputs": [
    {
     "name": "stdout",
     "output_type": "stream",
     "text": [
      "[0.06437717]\n",
      "[24.44154785]\n",
      "[ 0.06437717  9.81524545 19.56611372]\n"
     ]
    }
   ],
   "source": [
    "print(model.predict([[0]]))   # X is 2D input.... so 0 must be retun i 2D format\n",
    "print(model.predict([[25]]))\n",
    "print(model.predict([[0],\n",
    "                    [10],\n",
    "                    [20]]))"
   ]
  },
  {
   "cell_type": "code",
   "execution_count": 5,
   "metadata": {},
   "outputs": [
    {
     "name": "stdout",
     "output_type": "stream",
     "text": [
      "24.44154785429428\n",
      "19.5661137182743\n"
     ]
    }
   ],
   "source": [
    "print(model.predict([[25]])[0])\n",
    "print(model.predict([[0],[10],[20]])[2])"
   ]
  },
  {
   "cell_type": "code",
   "execution_count": 6,
   "metadata": {},
   "outputs": [
    {
     "name": "stdout",
     "output_type": "stream",
     "text": [
      "slope(m):0.975 ,intercept(c): 0.064\n"
     ]
    }
   ],
   "source": [
    "print(\"slope(m):%.3f ,intercept(c): %.3f\"%(model.coef_,model.intercept_))"
   ]
  },
  {
   "cell_type": "code",
   "execution_count": 16,
   "metadata": {},
   "outputs": [
    {
     "data": {
      "image/png": "[encoded data removed]",
      "text/plain": [
       "<Figure size 432x288 with 1 Axes>"
      ]
     },
     "metadata": {
      "needs_background": "light"
     },
     "output_type": "display_data"
    }
   ],
   "source": [
    "# plot initial Data\n",
    "\n",
    "plt.figure()\n",
    "plt.title('piza price plotted against diameter')\n",
    "plt.xlabel(\"Diameter in inches\")\n",
    "plt.ylabel(\"Price in dollars\")\n",
    "plt.plot(X,Y,'go') #fmt\n",
    "plt.axis([0,25,0,25])  #x1,x2,y1,y2\n",
    "plt.grid()\n",
    "#plot regression solution line\n",
    "plt.plot([0,25],[model.predict([[0]])[0],\n",
    "                model.predict([[25]])[0]],color='r')\n",
    "plt.show()"
   ]
  },
  {
   "cell_type": "code",
   "execution_count": 7,
   "metadata": {},
   "outputs": [
    {
     "name": "stdout",
     "output_type": "stream",
     "text": [
      "Number of iteration is: 15\n"
     ]
    }
   ],
   "source": [
    "print(\"Number of iteration is:\", model.n_iter_)"
   ]
  },
  {
   "cell_type": "code",
   "execution_count": 13,
   "metadata": {},
   "outputs": [
    {
     "name": "stdout",
     "output_type": "stream",
     "text": [
      "0.7214258241997085\n"
     ]
    }
   ],
   "source": [
    "print(model.score(X,Y))"
   ]
  },
  {
   "cell_type": "code",
   "execution_count": 12,
   "metadata": {},
   "outputs": [
    {
     "name": "stdout",
     "output_type": "stream",
     "text": [
      "SGD mse is: 5.415481977557666\n"
     ]
    }
   ],
   "source": [
    "from sklearn.metrics import mean_squared_error\n",
    "\n",
    "mse = mean_squared_error(Y,model.predict(X),multioutput ='uniform_average')\n",
    "print(\"SGD mse is:\",mse)"
   ]
  },
  {
   "cell_type": "code",
   "execution_count": 17,
   "metadata": {},
   "outputs": [
    {
     "name": "stdout",
     "output_type": "stream",
     "text": [
      "R2 is : 0.7214258241997085\n"
     ]
    }
   ],
   "source": [
    "from sklearn.metrics import r2_score\n",
    "r2 = r2_score(Y,model.predict(X))\n",
    "print(\"R2 is :\",r2)"
   ]
  },
  {
   "cell_type": "code",
   "execution_count": null,
   "metadata": {},
   "outputs": [],
   "source": []
  }
 ],
 "metadata": {
  "kernelspec": {
   "display_name": "Python 3",
   "language": "python",
   "name": "python3"
  },
  "language_info": {
   "codemirror_mode": {
    "name": "ipython",
    "version": 3
   },
   "file_extension": ".py",
   "mimetype": "text/x-python",
   "name": "python",
   "nbconvert_exporter": "python",
   "pygments_lexer": "ipython3",
   "version": "3.8.5"
  }
 },
 "nbformat": 4,
 "nbformat_minor": 4
}
